{
 "cells": [
  {
   "cell_type": "markdown",
   "metadata": {},
   "source": [
    "# Python Playground\n",
    "\n",
    "> Tutorial: https://docs.python.org/3/tutorial/index.html\n",
    "> \n",
    "> Standard Library: https://docs.python.org/3/library/index.html#library-index"
   ]
  },
  {
   "cell_type": "code",
   "execution_count": 1,
   "metadata": {},
   "outputs": [
    {
     "name": "stdout",
     "output_type": "stream",
     "text": [
      "hello python\n"
     ]
    }
   ],
   "source": [
    "print(\"hello python\")"
   ]
  },
  {
   "cell_type": "markdown",
   "metadata": {},
   "source": [
    "## 异步编程\n",
    "\n",
    "> https://docs.python.org/3/library/asyncio.html#module-asyncio\n",
    "\n",
    "python 中使用 asyncio 模块实现异步编程。\n",
    "\n",
    "通过 asyncio 可以运行一个事件循环，在事件循环中可以同时运行多个任务，\n",
    "\n",
    "当一个任务完成或者阻塞时，会自动切换到下一个任务。"
   ]
  },
  {
   "cell_type": "code",
   "execution_count": 3,
   "metadata": {},
   "outputs": [],
   "source": [
    "import asyncio;\n",
    "\n",
    "async def io_task_1():\n",
    "    print(\"io_task_1\");\n",
    "    await asyncio.sleep(1);\n",
    "    print(\"io_task_1 done\");\n",
    "\n",
    "async def io_task_2():\n",
    "    print(\"io_task_2\");\n",
    "    await asyncio.sleep(1);\n",
    "    print(\"io_task_2 done\");\n",
    "\n",
    "async def main():\n",
    "    await asyncio.gather(io_task_1(), io_task_2());\n",
    "    print(\"main done\");\n",
    "\n",
    "# asyncio.run(main()); # jupet notebook 运行时使用了事件循环，因此此处不能再执行asyncio.run()"
   ]
  }
 ],
 "metadata": {
  "kernelspec": {
   "display_name": ".venv",
   "language": "python",
   "name": "python3"
  },
  "language_info": {
   "codemirror_mode": {
    "name": "ipython",
    "version": 3
   },
   "file_extension": ".py",
   "mimetype": "text/x-python",
   "name": "python",
   "nbconvert_exporter": "python",
   "pygments_lexer": "ipython3",
   "version": "3.10.11"
  }
 },
 "nbformat": 4,
 "nbformat_minor": 2
}
