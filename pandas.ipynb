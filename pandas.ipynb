{
 "cells": [
  {
   "cell_type": "markdown",
   "metadata": {},
   "source": [
    "# Pandas\n",
    "\n",
    "https://pandas.pydata.org/docs/getting_started/index.html\n",
    "\n",
    "pandas 是一个用于处理表格数据的 Python 库。\n",
    "\n",
    "主要有两种数据结构：Series 和 DataFrame。\n",
    "\n",
    "一个表格数据称为 `DataFrame`，一个列/行数据称为 `Series`。\n",
    "\n",
    "## DataFrame"
   ]
  },
  {
   "cell_type": "code",
   "execution_count": 37,
   "metadata": {},
   "outputs": [
    {
     "name": "stdout",
     "output_type": "stream",
     "text": [
      "|    | 0    | 1    | 2    |\n",
      "|---:|:-----|:-----|:-----|\n",
      "|  0 | th0  | th1  | th2  |\n",
      "|  1 | td00 | td10 | td20 |\n",
      "|  2 | td01 | td11 | td21 |\n"
     ]
    }
   ],
   "source": [
    "import pandas as pd\n",
    "# 二维数组\n",
    "df = pd.DataFrame([\n",
    "  ['th0', 'th1', 'th2'],\n",
    "  ['td00', 'td10', 'td20'],\n",
    "  ['td01', 'td11', 'td21']\n",
    "])\n",
    "\n",
    "print(df.to_markdown())"
   ]
  },
  {
   "cell_type": "code",
   "execution_count": 38,
   "metadata": {},
   "outputs": [
    {
     "name": "stdout",
     "output_type": "stream",
     "text": [
      "|     | th0   | th1   | th2   |\n",
      "|:----|:------|:------|:------|\n",
      "| rh0 | td00  | td10  | td20  |\n",
      "| rh1 | td01  | td11  | td21  |\n"
     ]
    }
   ],
   "source": [
    "# 指定列标签（列表头）、行标签（行表头）\n",
    "df1 = pd.DataFrame(\n",
    "  [\n",
    "    ['td00', 'td10', 'td20'],\n",
    "    ['td01', 'td11', 'td21']\n",
    "  ],\n",
    "  columns=['th0', 'th1', 'th2'],\n",
    "  index=['rh0', 'rh1']\n",
    ")\n",
    "\n",
    "print(df1.to_markdown())"
   ]
  },
  {
   "cell_type": "code",
   "execution_count": 39,
   "metadata": {},
   "outputs": [
    {
     "name": "stdout",
     "output_type": "stream",
     "text": [
      "|    | th0   | th1   | th2   |\n",
      "|---:|:------|:------|:------|\n",
      "|  0 | td00  | td10  | td20  |\n",
      "|  1 | td01  | td11  | td21  |\n"
     ]
    }
   ],
   "source": [
    "# 使用字典创\n",
    "df2 = pd.DataFrame({\n",
    "  'th0': ['td00', 'td01'],\n",
    "  'th1': ['td10', 'td11'],\n",
    "  'th2': ['td20', 'td21']\n",
    "})\n",
    "print(df2.to_markdown())"
   ]
  },
  {
   "cell_type": "markdown",
   "metadata": {},
   "source": [
    "## Series\n",
    "\n",
    "使用列标签从 DataFrame 提取列作为 Series。"
   ]
  },
  {
   "cell_type": "code",
   "execution_count": 42,
   "metadata": {},
   "outputs": [
    {
     "name": "stdout",
     "output_type": "stream",
     "text": [
      "0     th0\n",
      "1    td00\n",
      "2    td01\n",
      "Name: 0, dtype: object\n",
      "|     | th0   |\n",
      "|:----|:------|\n",
      "| rh0 | td00  |\n",
      "| rh1 | td01  |\n"
     ]
    }
   ],
   "source": [
    "print(df[0])\n",
    "print(df1['th0'])"
   ]
  },
  {
   "cell_type": "markdown",
   "metadata": {},
   "source": [
    "使用 loc 或 iloc 方法可以提取 DataFrame 的某一行，返回的同样是一个 Series。"
   ]
  },
  {
   "cell_type": "code",
   "execution_count": 41,
   "metadata": {},
   "outputs": [
    {
     "name": "stdout",
     "output_type": "stream",
     "text": [
      "0    th0\n",
      "1    th1\n",
      "2    th2\n",
      "Name: 0, dtype: object\n",
      "th0    td00\n",
      "th1    td10\n",
      "th2    td20\n",
      "Name: rh0, dtype: object\n",
      "th0    td00\n",
      "th1    td10\n",
      "th2    td20\n",
      "Name: rh0, dtype: object\n"
     ]
    }
   ],
   "source": [
    "print(df.loc[0])\n",
    "print(df1.loc['rh0'])\n",
    "print(df1.iloc[0])"
   ]
  }
 ],
 "metadata": {
  "kernelspec": {
   "display_name": ".venv",
   "language": "python",
   "name": "python3"
  },
  "language_info": {
   "codemirror_mode": {
    "name": "ipython",
    "version": 3
   },
   "file_extension": ".py",
   "mimetype": "text/x-python",
   "name": "python",
   "nbconvert_exporter": "python",
   "pygments_lexer": "ipython3",
   "version": "3.10.11"
  }
 },
 "nbformat": 4,
 "nbformat_minor": 2
}
